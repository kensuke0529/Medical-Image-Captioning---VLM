{
  "cells": [
    {
      "cell_type": "code",
      "execution_count": 3,
      "metadata": {
        "colab": {
          "base_uri": "https://localhost:8080/"
        },
        "id": "dgAgWW28XRgE",
        "outputId": "0f456104-11ee-4281-9c55-d06a48e20e47"
      },
      "outputs": [
        {
          "output_type": "stream",
          "name": "stdout",
          "text": [
            "GPU: Tesla T4\n",
            "GPU Memory: 15.8 GB\n",
            "Available GPU Memory: 0.0 GB\n",
            "\n",
            "Loading dataset...\n"
          ]
        },
        {
          "output_type": "stream",
          "name": "stderr",
          "text": [
            "/usr/local/lib/python3.12/dist-packages/huggingface_hub/utils/_auth.py:94: UserWarning: \n",
            "The secret `HF_TOKEN` does not exist in your Colab secrets.\n",
            "To authenticate with the Hugging Face Hub, create a token in your settings tab (https://huggingface.co/settings/tokens), set it as secret in your Google Colab and restart your session.\n",
            "You will be able to reuse this secret in all of your notebooks.\n",
            "Please note that authentication is recommended but still optional to access public models or datasets.\n",
            "  warnings.warn(\n"
          ]
        },
        {
          "output_type": "stream",
          "name": "stdout",
          "text": [
            "Dataset loaded: 3851 samples\n"
          ]
        }
      ],
      "source": [
        "# Google Colab Optimized Imports\n",
        "import torch\n",
        "import gc\n",
        "import os\n",
        "from datasets import load_dataset\n",
        "from transformers import BlipProcessor, BlipForConditionalGeneration\n",
        "from torch.utils.data import Dataset, DataLoader\n",
        "from torch.optim import AdamW\n",
        "from PIL import Image\n",
        "import io\n",
        "from sklearn.model_selection import train_test_split\n",
        "from tqdm import tqdm\n",
        "from torch.optim.lr_scheduler import CosineAnnealingLR\n",
        "from torch.cuda.amp import autocast, GradScaler\n",
        "import psutil\n",
        "import time\n",
        "\n",
        "# Colab-specific optimizations\n",
        "torch.backends.cudnn.benchmark = True  # Optimize for consistent input sizes\n",
        "torch.backends.cudnn.deterministic = False  # Speed over reproducibility\n",
        "\n",
        "# Check GPU memory\n",
        "if torch.cuda.is_available():\n",
        "    print(f\"GPU: {torch.cuda.get_device_name(0)}\")\n",
        "    print(f\"GPU Memory: {torch.cuda.get_device_properties(0).total_memory / 1e9:.1f} GB\")\n",
        "    print(f\"Available GPU Memory: {torch.cuda.memory_reserved(0) / 1e9:.1f} GB\")\n",
        "else:\n",
        "    print(\"No GPU available - using CPU\")\n",
        "\n",
        "# Load dataset\n",
        "print(\"\\nLoading dataset...\")\n",
        "ds = load_dataset(\"ykumards/open-i\")\n",
        "print(f\"Dataset loaded: {len(ds['train'])} samples\")\n"
      ]
    },
    {
      "cell_type": "code",
      "execution_count": 5,
      "metadata": {
        "colab": {
          "base_uri": "https://localhost:8080/"
        },
        "id": "SkZwDHPRXRgF",
        "outputId": "7574d2e2-08b4-4951-80f3-be2e51f0d589"
      },
      "outputs": [
        {
          "output_type": "stream",
          "name": "stdout",
          "text": [
            "Creating and validating dataset...\n",
            "Processing 3000 samples...\n"
          ]
        },
        {
          "output_type": "stream",
          "name": "stderr",
          "text": [
            "Processing images: 100%|██████████| 3000/3000 [04:40<00:00, 10.70it/s]"
          ]
        },
        {
          "output_type": "stream",
          "name": "stdout",
          "text": [
            "Removed 131 corrupted images\n",
            "Created 2869 valid image-caption pairs\n",
            "Sample caption: Medical findings: normal. The cardiac silhouette and mediastinum size are within normal limits. There is no pulmonary edema. There is no focal consolidation. There are no XXXX of a pleural effusion. There is no evidence of pneumothorax.\n"
          ]
        },
        {
          "output_type": "stream",
          "name": "stderr",
          "text": [
            "\n"
          ]
        }
      ],
      "source": [
        "# Colab-optimized dataset creation with memory management\n",
        "def create_dataset_colab(ds, max_samples=None):\n",
        "    \"\"\"Create dataset with Colab memory optimizations\"\"\"\n",
        "    dataset = []\n",
        "    corrupted_count = 0\n",
        "\n",
        "    # Limit samples for Colab if needed\n",
        "    total_samples = len(ds['train'])\n",
        "    if max_samples:\n",
        "        total_samples = min(total_samples, max_samples)\n",
        "\n",
        "    print(f\"Processing {total_samples} samples...\")\n",
        "\n",
        "    for i in tqdm(range(total_samples), desc=\"Processing images\"):\n",
        "        # Clear cache every 100 images to prevent OOM\n",
        "        if i % 100 == 0:\n",
        "            gc.collect()\n",
        "            torch.cuda.empty_cache()\n",
        "\n",
        "        # Validate image first\n",
        "        image_bytes = ds['train'][i]['img_frontal']\n",
        "        try:\n",
        "            # Try to open and verify the image\n",
        "            img = Image.open(io.BytesIO(image_bytes))\n",
        "            img.verify()\n",
        "            # Reopen after verify\n",
        "            img = Image.open(io.BytesIO(image_bytes)).convert(\"RGB\")\n",
        "            img.load()\n",
        "\n",
        "            # Resize large images to save memory\n",
        "            if img.size[0] > 512 or img.size[1] > 512:\n",
        "                img = img.resize((512, 512), Image.Resampling.LANCZOS)\n",
        "\n",
        "        except Exception as e:\n",
        "            corrupted_count += 1\n",
        "            continue\n",
        "\n",
        "        # Create caption\n",
        "        problems = ds['train'][i]['Problems'] if ds['train'][i]['Problems'] else \"\"\n",
        "        findings = ds['train'][i]['findings'] if ds['train'][i]['findings'] else \"\"\n",
        "        caption = f\"Medical findings: {problems}. {findings}\".strip()\n",
        "        if not caption or caption == \"Medical findings: . \":\n",
        "            caption = \"Normal medical image\"\n",
        "\n",
        "        dataset.append({'caption': caption, 'image_frontal': image_bytes})\n",
        "\n",
        "    print(f\"Removed {corrupted_count} corrupted images\")\n",
        "    return dataset\n",
        "\n",
        "# Create clean dataset (limit to 2000 for Colab)\n",
        "print(\"Creating and validating dataset...\")\n",
        "ds1 = create_dataset_colab(ds, max_samples=3000)  # Limit for Colab\n",
        "print(f\"Created {len(ds1)} valid image-caption pairs\")\n",
        "print(\"Sample caption:\", ds1[0]['caption'])\n"
      ]
    },
    {
      "cell_type": "code",
      "execution_count": 6,
      "metadata": {
        "colab": {
          "base_uri": "https://localhost:8080/"
        },
        "id": "Omhw1E7MXRgG",
        "outputId": "c6272c5a-72e9-46c1-97de-e688bca30a10"
      },
      "outputs": [
        {
          "output_type": "stream",
          "name": "stdout",
          "text": [
            "Train: 2295, Val: 287, Test: 287\n"
          ]
        }
      ],
      "source": [
        "# Split dataset\n",
        "train_list, temp_list = train_test_split(ds1, test_size=0.2, random_state=42)\n",
        "val_list, test_list = train_test_split(temp_list, test_size=0.5, random_state=42)\n",
        "\n",
        "print(f\"Train: {len(train_list)}, Val: {len(val_list)}, Test: {len(test_list)}\")"
      ]
    },
    {
      "cell_type": "code",
      "execution_count": 7,
      "metadata": {
        "colab": {
          "base_uri": "https://localhost:8080/"
        },
        "id": "hk-PbthbXRgG",
        "outputId": "943d2da3-61f4-4a24-c64f-a71aa9bbea78"
      },
      "outputs": [
        {
          "output_type": "stream",
          "name": "stderr",
          "text": [
            "Using a slow image processor as `use_fast` is unset and a slow processor was saved with this model. `use_fast=True` will be the default behavior in v4.52, even if the model was saved with a slow processor. This will result in minor differences in outputs. You'll still be able to use a slow processor with `use_fast=False`.\n"
          ]
        },
        {
          "output_type": "stream",
          "name": "stdout",
          "text": [
            "Using device: cuda\n",
            "Model loaded on cuda\n"
          ]
        }
      ],
      "source": [
        "# Colab-optimized Dataset class with preprocessing\n",
        "class MedicalDatasetColab(Dataset):\n",
        "    def __init__(self, dataset, processor, preprocess=True):\n",
        "        self.dataset = dataset\n",
        "        self.processor = processor\n",
        "        self.preprocess = preprocess\n",
        "\n",
        "        # Preprocess all images once if requested\n",
        "        if preprocess:\n",
        "            print(\"Preprocessing images for faster training...\")\n",
        "            self.processed_data = self._preprocess_all()\n",
        "        else:\n",
        "            self.processed_data = None\n",
        "\n",
        "    def _preprocess_all(self):\n",
        "        \"\"\"Preprocess all images once to avoid repeated processing\"\"\"\n",
        "        processed = []\n",
        "\n",
        "        for i in tqdm(range(len(self.dataset)), desc=\"Preprocessing\"):\n",
        "            item = self.dataset[i]\n",
        "\n",
        "            # Load and process image\n",
        "            image_bytes = item['image_frontal']\n",
        "            image = Image.open(io.BytesIO(image_bytes)).convert(\"RGB\")\n",
        "\n",
        "            # Resize if too large\n",
        "            if image.size[0] > 512 or image.size[1] > 512:\n",
        "                image = image.resize((512, 512), Image.Resampling.LANCZOS)\n",
        "\n",
        "            # Process with BLIP processor\n",
        "            inputs = self.processor(\n",
        "                images=image,\n",
        "                text=item['caption'],\n",
        "                return_tensors=\"pt\",\n",
        "                padding=\"max_length\",\n",
        "                max_length=77,\n",
        "                truncation=True\n",
        "            )\n",
        "\n",
        "            processed.append({\n",
        "                'pixel_values': inputs['pixel_values'].squeeze(0),\n",
        "                'input_ids': inputs['input_ids'].squeeze(0),\n",
        "                'attention_mask': inputs['attention_mask'].squeeze(0)\n",
        "            })\n",
        "\n",
        "            # Clear memory every 50 images\n",
        "            if i % 50 == 0:\n",
        "                gc.collect()\n",
        "\n",
        "        return processed\n",
        "\n",
        "    def __getitem__(self, index):\n",
        "        if self.preprocess and self.processed_data:\n",
        "            return self.processed_data[index]\n",
        "        else:\n",
        "            # Original processing (slower)\n",
        "            item = self.dataset[index]\n",
        "            image_bytes = item['image_frontal']\n",
        "            image = Image.open(io.BytesIO(image_bytes)).convert(\"RGB\")\n",
        "\n",
        "            inputs = self.processor(\n",
        "                images=image,\n",
        "                text=item['caption'],\n",
        "                return_tensors=\"pt\",\n",
        "                padding=\"max_length\",\n",
        "                max_length=77,\n",
        "                truncation=True\n",
        "            )\n",
        "\n",
        "            return {\n",
        "                'pixel_values': inputs['pixel_values'].squeeze(0),\n",
        "                'input_ids': inputs['input_ids'].squeeze(0),\n",
        "                'attention_mask': inputs['attention_mask'].squeeze(0)\n",
        "            }\n",
        "\n",
        "    def __len__(self):\n",
        "        return len(self.dataset)\n",
        "\n",
        "# Define processor and model\n",
        "processor = BlipProcessor.from_pretrained(\"Salesforce/blip-image-captioning-base\")\n",
        "model = BlipForConditionalGeneration.from_pretrained(\"Salesforce/blip-image-captioning-base\")\n",
        "\n",
        "device = torch.device(\"cuda\" if torch.cuda.is_available() else \"cpu\")\n",
        "model = model.to(device)\n",
        "\n",
        "print(f\"Using device: {device}\")\n",
        "print(f\"Model loaded on {device}\")\n"
      ]
    },
    {
      "cell_type": "code",
      "execution_count": 8,
      "metadata": {
        "colab": {
          "base_uri": "https://localhost:8080/"
        },
        "id": "q2epX_XWXRgG",
        "outputId": "386f7fee-875f-49ae-ec36-3a92dee4a1f8"
      },
      "outputs": [
        {
          "output_type": "stream",
          "name": "stdout",
          "text": [
            "\n",
            "Creating dataset objects...\n",
            "Preprocessing images for faster training...\n"
          ]
        },
        {
          "output_type": "stream",
          "name": "stderr",
          "text": [
            "Preprocessing: 100%|██████████| 2295/2295 [04:28<00:00,  8.56it/s]\n"
          ]
        },
        {
          "output_type": "stream",
          "name": "stdout",
          "text": [
            "Preprocessing images for faster training...\n"
          ]
        },
        {
          "output_type": "stream",
          "name": "stderr",
          "text": [
            "Preprocessing: 100%|██████████| 287/287 [00:29<00:00,  9.61it/s]\n"
          ]
        },
        {
          "output_type": "stream",
          "name": "stdout",
          "text": [
            "Preprocessing images for faster training...\n"
          ]
        },
        {
          "output_type": "stream",
          "name": "stderr",
          "text": [
            "Preprocessing: 100%|██████████| 287/287 [00:30<00:00,  9.38it/s]"
          ]
        },
        {
          "output_type": "stream",
          "name": "stdout",
          "text": [
            "Train batches: 144\n",
            "Val batches: 18\n",
            "Test batches: 18\n",
            "Batch size: 16\n"
          ]
        },
        {
          "output_type": "stream",
          "name": "stderr",
          "text": [
            "\n"
          ]
        }
      ],
      "source": [
        "# Create dataset objects with preprocessing\n",
        "print(\"\\nCreating dataset objects...\")\n",
        "train_ds = MedicalDatasetColab(train_list, processor, preprocess=True)\n",
        "val_ds = MedicalDatasetColab(val_list, processor, preprocess=True)\n",
        "test_ds = MedicalDatasetColab(test_list, processor, preprocess=True)\n",
        "\n",
        "# Colab-optimized data loaders\n",
        "batch_size = 16  # Increased from 8 for better GPU utilization\n",
        "num_workers = 2  # Colab-optimized\n",
        "\n",
        "train_loader = DataLoader(\n",
        "    train_ds,\n",
        "    batch_size=batch_size,\n",
        "    shuffle=True,\n",
        "    num_workers=num_workers,\n",
        "    pin_memory=True,\n",
        "    persistent_workers=True,  # Keep workers alive\n",
        "    prefetch_factor=2  # Prefetch batches\n",
        ")\n",
        "\n",
        "val_loader = DataLoader(\n",
        "    val_ds,\n",
        "    batch_size=batch_size,\n",
        "    shuffle=False,\n",
        "    num_workers=num_workers,\n",
        "    pin_memory=True,\n",
        "    persistent_workers=True\n",
        ")\n",
        "\n",
        "test_loader = DataLoader(\n",
        "    test_ds,\n",
        "    batch_size=batch_size,\n",
        "    shuffle=False,\n",
        "    num_workers=num_workers,\n",
        "    pin_memory=True,\n",
        "    persistent_workers=True\n",
        ")\n",
        "\n",
        "print(f\"Train batches: {len(train_loader)}\")\n",
        "print(f\"Val batches: {len(val_loader)}\")\n",
        "print(f\"Test batches: {len(test_loader)}\")\n",
        "print(f\"Batch size: {batch_size}\")"
      ]
    },
    {
      "cell_type": "code",
      "execution_count": 9,
      "metadata": {
        "colab": {
          "base_uri": "https://localhost:8080/"
        },
        "id": "meS8LpCaXRgG",
        "outputId": "2da37e1a-43d3-47af-b7fa-5c75c6b8374f"
      },
      "outputs": [
        {
          "output_type": "stream",
          "name": "stdout",
          "text": [
            "\n",
            "Setting up training...\n",
            "Training setup complete:\n",
            "- Epochs: 10\n",
            "- Learning rate: 5e-05\n",
            "- Batch size: 16\n",
            "- Mixed precision: Enabled\n"
          ]
        },
        {
          "output_type": "stream",
          "name": "stderr",
          "text": [
            "/tmp/ipython-input-3731165843.py:94: FutureWarning: `torch.cuda.amp.GradScaler(args...)` is deprecated. Please use `torch.amp.GradScaler('cuda', args...)` instead.\n",
            "  scaler = GradScaler()\n"
          ]
        }
      ],
      "source": [
        "# Colab-optimized training functions with mixed precision\n",
        "def train_epoch_colab(model, dataloader, optimizer, device, scaler, max_grad_norm=1.0):\n",
        "    \"\"\"Training epoch with Colab optimizations\"\"\"\n",
        "    model.train()\n",
        "    total_loss = 0\n",
        "\n",
        "    # Memory monitoring\n",
        "    if torch.cuda.is_available():\n",
        "        torch.cuda.reset_peak_memory_stats()\n",
        "\n",
        "    for batch_idx, batch in enumerate(tqdm(dataloader, desc=\"Training\")):\n",
        "        # Move to device\n",
        "        pixel_values = batch['pixel_values'].to(device, non_blocking=True)\n",
        "        input_ids = batch['input_ids'].to(device, non_blocking=True)\n",
        "        attention_mask = batch['attention_mask'].to(device, non_blocking=True)\n",
        "\n",
        "        optimizer.zero_grad()\n",
        "\n",
        "        # Mixed precision forward pass\n",
        "        with autocast():\n",
        "            outputs = model(\n",
        "                pixel_values=pixel_values,\n",
        "                input_ids=input_ids,\n",
        "                attention_mask=attention_mask,\n",
        "                labels=input_ids\n",
        "            )\n",
        "            loss = outputs.loss\n",
        "\n",
        "        # Mixed precision backward pass\n",
        "        scaler.scale(loss).backward()\n",
        "\n",
        "        # Gradient clipping\n",
        "        scaler.unscale_(optimizer)\n",
        "        torch.nn.utils.clip_grad_norm_(model.parameters(), max_grad_norm)\n",
        "\n",
        "        scaler.step(optimizer)\n",
        "        scaler.update()\n",
        "\n",
        "        total_loss += loss.item()\n",
        "\n",
        "        # Clear cache every 10 batches\n",
        "        if batch_idx % 10 == 0:\n",
        "            torch.cuda.empty_cache()\n",
        "\n",
        "    # Print memory usage\n",
        "    if torch.cuda.is_available():\n",
        "        peak_memory = torch.cuda.max_memory_allocated() / 1e9\n",
        "        print(f\"Peak GPU memory usage: {peak_memory:.2f} GB\")\n",
        "\n",
        "    return total_loss / len(dataloader)\n",
        "\n",
        "\n",
        "def validate_epoch_colab(model, dataloader, device):\n",
        "    \"\"\"Validation epoch with Colab optimizations\"\"\"\n",
        "    model.eval()\n",
        "    total_loss = 0\n",
        "\n",
        "    with torch.no_grad():\n",
        "        for batch in tqdm(dataloader, desc=\"Validation\"):\n",
        "            pixel_values = batch['pixel_values'].to(device, non_blocking=True)\n",
        "            input_ids = batch['input_ids'].to(device, non_blocking=True)\n",
        "            attention_mask = batch['attention_mask'].to(device, non_blocking=True)\n",
        "\n",
        "            with autocast():\n",
        "                outputs = model(\n",
        "                    pixel_values=pixel_values,\n",
        "                    input_ids=input_ids,\n",
        "                    attention_mask=attention_mask,\n",
        "                    labels=input_ids\n",
        "                )\n",
        "                total_loss += outputs.loss.item()\n",
        "\n",
        "    return total_loss / len(dataloader)\n",
        "\n",
        "\n",
        "# Setup training with Colab optimizations\n",
        "print(\"\\nSetting up training...\")\n",
        "num_epochs = 10\n",
        "learning_rate = 5e-5\n",
        "weight_decay = 0.01\n",
        "\n",
        "# Optimizer with Colab-friendly settings\n",
        "optimizer = AdamW(\n",
        "    model.parameters(),\n",
        "    lr=learning_rate,\n",
        "    weight_decay=weight_decay,\n",
        "    eps=1e-8  # Better numerical stability\n",
        ")\n",
        "\n",
        "# Learning rate scheduler\n",
        "scheduler = CosineAnnealingLR(optimizer, T_max=num_epochs)\n",
        "\n",
        "# Mixed precision scaler\n",
        "scaler = GradScaler()\n",
        "\n",
        "# Track best model\n",
        "best_val_loss = float('inf')\n",
        "patience = 5\n",
        "patience_counter = 0\n",
        "\n",
        "print(f\"Training setup complete:\")\n",
        "print(f\"- Epochs: {num_epochs}\")\n",
        "print(f\"- Learning rate: {learning_rate}\")\n",
        "print(f\"- Batch size: {batch_size}\")\n",
        "print(f\"- Mixed precision: Enabled\")\n"
      ]
    },
    {
      "cell_type": "code",
      "execution_count": 10,
      "metadata": {
        "colab": {
          "base_uri": "https://localhost:8080/"
        },
        "id": "FWk5AKSnXRgH",
        "outputId": "18beb6fd-9671-495b-8888-8fc191730297"
      },
      "outputs": [
        {
          "output_type": "stream",
          "name": "stdout",
          "text": [
            "\n",
            "==================================================\n",
            "Epoch 1/10\n",
            "Learning rate: 0.000050\n",
            "==================================================\n"
          ]
        },
        {
          "output_type": "stream",
          "name": "stderr",
          "text": [
            "\rTraining:   0%|          | 0/144 [00:00<?, ?it/s]/tmp/ipython-input-3731165843.py:20: FutureWarning: `torch.cuda.amp.autocast(args...)` is deprecated. Please use `torch.amp.autocast('cuda', args...)` instead.\n",
            "  with autocast():\n",
            "Training: 100%|██████████| 144/144 [02:15<00:00,  1.07it/s]\n"
          ]
        },
        {
          "output_type": "stream",
          "name": "stdout",
          "text": [
            "Peak GPU memory usage: 13.57 GB\n"
          ]
        },
        {
          "output_type": "stream",
          "name": "stderr",
          "text": [
            "\rValidation:   0%|          | 0/18 [00:00<?, ?it/s]/tmp/ipython-input-3731165843.py:64: FutureWarning: `torch.cuda.amp.autocast(args...)` is deprecated. Please use `torch.amp.autocast('cuda', args...)` instead.\n",
            "  with autocast():\n",
            "Validation: 100%|██████████| 18/18 [00:05<00:00,  3.19it/s]\n"
          ]
        },
        {
          "output_type": "stream",
          "name": "stdout",
          "text": [
            "Train Loss: 2.7542\n",
            "Val Loss: 1.0782\n",
            "Epoch Time: 140.8s\n",
            "\n",
            "==================================================\n",
            "Epoch 2/10\n",
            "Learning rate: 0.000049\n",
            "==================================================\n"
          ]
        },
        {
          "output_type": "stream",
          "name": "stderr",
          "text": [
            "Training: 100%|██████████| 144/144 [02:17<00:00,  1.05it/s]\n"
          ]
        },
        {
          "output_type": "stream",
          "name": "stdout",
          "text": [
            "Peak GPU memory usage: 13.57 GB\n"
          ]
        },
        {
          "output_type": "stream",
          "name": "stderr",
          "text": [
            "Validation: 100%|██████████| 18/18 [00:05<00:00,  3.33it/s]\n"
          ]
        },
        {
          "output_type": "stream",
          "name": "stdout",
          "text": [
            "Train Loss: 0.8346\n",
            "Val Loss: 0.8270\n",
            "Epoch Time: 142.6s\n",
            "\n",
            "==================================================\n",
            "Epoch 3/10\n",
            "Learning rate: 0.000045\n",
            "==================================================\n"
          ]
        },
        {
          "output_type": "stream",
          "name": "stderr",
          "text": [
            "Training: 100%|██████████| 144/144 [02:18<00:00,  1.04it/s]\n"
          ]
        },
        {
          "output_type": "stream",
          "name": "stdout",
          "text": [
            "Peak GPU memory usage: 13.57 GB\n"
          ]
        },
        {
          "output_type": "stream",
          "name": "stderr",
          "text": [
            "Validation: 100%|██████████| 18/18 [00:05<00:00,  3.31it/s]\n"
          ]
        },
        {
          "output_type": "stream",
          "name": "stdout",
          "text": [
            "Train Loss: 0.6263\n",
            "Val Loss: 0.7324\n",
            "Epoch Time: 144.3s\n",
            "\n",
            "==================================================\n",
            "Epoch 4/10\n",
            "Learning rate: 0.000040\n",
            "==================================================\n"
          ]
        },
        {
          "output_type": "stream",
          "name": "stderr",
          "text": [
            "Training: 100%|██████████| 144/144 [02:18<00:00,  1.04it/s]\n"
          ]
        },
        {
          "output_type": "stream",
          "name": "stdout",
          "text": [
            "Peak GPU memory usage: 13.57 GB\n"
          ]
        },
        {
          "output_type": "stream",
          "name": "stderr",
          "text": [
            "Validation: 100%|██████████| 18/18 [00:05<00:00,  3.26it/s]\n"
          ]
        },
        {
          "output_type": "stream",
          "name": "stdout",
          "text": [
            "Train Loss: 0.5135\n",
            "Val Loss: 0.7068\n",
            "Epoch Time: 144.2s\n",
            "\n",
            "==================================================\n",
            "Epoch 5/10\n",
            "Learning rate: 0.000033\n",
            "==================================================\n"
          ]
        },
        {
          "output_type": "stream",
          "name": "stderr",
          "text": [
            "Training: 100%|██████████| 144/144 [02:18<00:00,  1.04it/s]\n"
          ]
        },
        {
          "output_type": "stream",
          "name": "stdout",
          "text": [
            "Peak GPU memory usage: 13.57 GB\n"
          ]
        },
        {
          "output_type": "stream",
          "name": "stderr",
          "text": [
            "Validation: 100%|██████████| 18/18 [00:05<00:00,  3.32it/s]\n"
          ]
        },
        {
          "output_type": "stream",
          "name": "stdout",
          "text": [
            "Train Loss: 0.4213\n",
            "Val Loss: 0.6860\n",
            "Epoch Time: 144.1s\n",
            "\n",
            "==================================================\n",
            "Epoch 6/10\n",
            "Learning rate: 0.000025\n",
            "==================================================\n"
          ]
        },
        {
          "output_type": "stream",
          "name": "stderr",
          "text": [
            "Training: 100%|██████████| 144/144 [02:18<00:00,  1.04it/s]\n"
          ]
        },
        {
          "output_type": "stream",
          "name": "stdout",
          "text": [
            "Peak GPU memory usage: 13.57 GB\n"
          ]
        },
        {
          "output_type": "stream",
          "name": "stderr",
          "text": [
            "Validation: 100%|██████████| 18/18 [00:05<00:00,  3.30it/s]\n"
          ]
        },
        {
          "output_type": "stream",
          "name": "stdout",
          "text": [
            "Train Loss: 0.3449\n",
            "Val Loss: 0.6957\n",
            "Epoch Time: 144.0s\n",
            "⚠ No improvement. Patience: 1/5\n",
            "\n",
            "==================================================\n",
            "Epoch 7/10\n",
            "Learning rate: 0.000017\n",
            "==================================================\n"
          ]
        },
        {
          "output_type": "stream",
          "name": "stderr",
          "text": [
            "Training: 100%|██████████| 144/144 [02:18<00:00,  1.04it/s]\n"
          ]
        },
        {
          "output_type": "stream",
          "name": "stdout",
          "text": [
            "Peak GPU memory usage: 13.57 GB\n"
          ]
        },
        {
          "output_type": "stream",
          "name": "stderr",
          "text": [
            "Validation: 100%|██████████| 18/18 [00:05<00:00,  3.29it/s]\n"
          ]
        },
        {
          "output_type": "stream",
          "name": "stdout",
          "text": [
            "Train Loss: 0.2837\n",
            "Val Loss: 0.7028\n",
            "Epoch Time: 144.2s\n",
            "⚠ No improvement. Patience: 2/5\n",
            "\n",
            "==================================================\n",
            "Epoch 8/10\n",
            "Learning rate: 0.000010\n",
            "==================================================\n"
          ]
        },
        {
          "output_type": "stream",
          "name": "stderr",
          "text": [
            "Training: 100%|██████████| 144/144 [02:18<00:00,  1.04it/s]\n"
          ]
        },
        {
          "output_type": "stream",
          "name": "stdout",
          "text": [
            "Peak GPU memory usage: 13.57 GB\n"
          ]
        },
        {
          "output_type": "stream",
          "name": "stderr",
          "text": [
            "Validation: 100%|██████████| 18/18 [00:05<00:00,  3.29it/s]\n"
          ]
        },
        {
          "output_type": "stream",
          "name": "stdout",
          "text": [
            "Train Loss: 0.2376\n",
            "Val Loss: 0.7144\n",
            "Epoch Time: 144.1s\n",
            "⚠ No improvement. Patience: 3/5\n",
            "\n",
            "==================================================\n",
            "Epoch 9/10\n",
            "Learning rate: 0.000005\n",
            "==================================================\n"
          ]
        },
        {
          "output_type": "stream",
          "name": "stderr",
          "text": [
            "Training: 100%|██████████| 144/144 [02:18<00:00,  1.04it/s]\n"
          ]
        },
        {
          "output_type": "stream",
          "name": "stdout",
          "text": [
            "Peak GPU memory usage: 13.57 GB\n"
          ]
        },
        {
          "output_type": "stream",
          "name": "stderr",
          "text": [
            "Validation: 100%|██████████| 18/18 [00:05<00:00,  3.30it/s]\n"
          ]
        },
        {
          "output_type": "stream",
          "name": "stdout",
          "text": [
            "Train Loss: 0.2059\n",
            "Val Loss: 0.7227\n",
            "Epoch Time: 144.1s\n",
            "⚠ No improvement. Patience: 4/5\n",
            "\n",
            "==================================================\n",
            "Epoch 10/10\n",
            "Learning rate: 0.000001\n",
            "==================================================\n"
          ]
        },
        {
          "output_type": "stream",
          "name": "stderr",
          "text": [
            "Training: 100%|██████████| 144/144 [02:18<00:00,  1.04it/s]\n"
          ]
        },
        {
          "output_type": "stream",
          "name": "stdout",
          "text": [
            "Peak GPU memory usage: 13.57 GB\n"
          ]
        },
        {
          "output_type": "stream",
          "name": "stderr",
          "text": [
            "Validation: 100%|██████████| 18/18 [00:05<00:00,  3.25it/s]\n"
          ]
        },
        {
          "output_type": "stream",
          "name": "stdout",
          "text": [
            "Train Loss: 0.1890\n",
            "Val Loss: 0.7256\n",
            "Epoch Time: 144.3s\n",
            "⚠ No improvement. Patience: 5/5\n",
            "Early stopping triggered!\n",
            "\n",
            "============================================================\n",
            "Training completed!\n",
            "Total time: 24.0 minutes\n",
            "Best validation loss: 0.6860\n",
            "Average epoch time: 144.2s\n",
            "============================================================\n"
          ]
        }
      ],
      "source": [
        "train_losses = []\n",
        "val_losses = []\n",
        "start_time = time.time()\n",
        "\n",
        "for epoch in range(num_epochs):\n",
        "    epoch_start = time.time()\n",
        "\n",
        "    print(f\"\\n{'='*50}\")\n",
        "    print(f\"Epoch {epoch + 1}/{num_epochs}\")\n",
        "    print(f\"Learning rate: {optimizer.param_groups[0]['lr']:.6f}\")\n",
        "    print(f\"{'='*50}\")\n",
        "\n",
        "    # Training\n",
        "    train_loss = train_epoch_colab(model, train_loader, optimizer, device, scaler)\n",
        "    train_losses.append(train_loss)\n",
        "\n",
        "    # Validation\n",
        "    val_loss = validate_epoch_colab(model, val_loader, device)\n",
        "    val_losses.append(val_loss)\n",
        "\n",
        "    # Learning rate scheduling\n",
        "    scheduler.step()\n",
        "\n",
        "    # Calculate timing\n",
        "    epoch_time = time.time() - epoch_start\n",
        "\n",
        "    print(f\"Train Loss: {train_loss:.4f}\")\n",
        "    print(f\"Val Loss: {val_loss:.4f}\")\n",
        "    print(f\"Epoch Time: {epoch_time:.1f}s\")\n",
        "\n",
        "    # Memory cleanup\n",
        "    gc.collect()\n",
        "    torch.cuda.empty_cache()\n",
        "\n",
        "    # Model checkpointing\n",
        "    if val_loss < best_val_loss:\n",
        "        best_val_loss = val_loss\n",
        "        patience_counter = 0\n",
        "\n",
        "\n",
        "    else:\n",
        "        patience_counter += 1\n",
        "        print(f\"⚠ No improvement. Patience: {patience_counter}/{patience}\")\n",
        "\n",
        "        if patience_counter >= patience:\n",
        "            print(\"Early stopping triggered!\")\n",
        "            break\n",
        "\n",
        "total_time = time.time() - start_time\n",
        "print(\"\\n\" + \"=\"*60)\n",
        "print(\"Training completed!\")\n",
        "print(f\"Total time: {total_time/60:.1f} minutes\")\n",
        "print(f\"Best validation loss: {best_val_loss:.4f}\")\n",
        "print(f\"Average epoch time: {total_time/num_epochs:.1f}s\")\n",
        "print(\"=\"*60)\n"
      ]
    },
    {
      "cell_type": "code",
      "execution_count": 11,
      "metadata": {
        "colab": {
          "base_uri": "https://localhost:8080/"
        },
        "id": "hW1DdXkdXRgH",
        "outputId": "4b22d485-937c-428f-d48b-0c47bda205b4"
      },
      "outputs": [
        {
          "output_type": "stream",
          "name": "stdout",
          "text": [
            "\n",
            "Saving trained model...\n",
            "✓ Model saved to /content/blip_trained_model.pth\n",
            "Testing the trained model...\n",
            "\n",
            "Sample 1:\n",
            "Generated: medical findings : normal. the heart is normal in size. the mediastinum is unremarkable. the lungs are clear.\n",
            "--------------------------------------------------\n",
            "\n",
            "Sample 2:\n",
            "Generated: medical findings : normal. the lungs are clear bilaterally. specifically, no evidence of focal consolidation, pneumothorax, or pleural effusion.. cardio mediastinal silhouette is unremarkable. visual\n",
            "--------------------------------------------------\n",
            "\n",
            "Sample 3:\n",
            "Generated: medical findings : cardiomegaly ; aorta ; opacity ; pulmonary atelectasis ; cicatrix ; cicatrix ;\n",
            "--------------------------------------------------\n"
          ]
        }
      ],
      "source": [
        "print(\"\\nSaving trained model...\")\n",
        "torch.save({\n",
        "    'model_state_dict': model.state_dict(),\n",
        "    'optimizer_state_dict': optimizer.state_dict(),\n",
        "    'epoch': epoch,\n",
        "    'train_loss': train_loss,\n",
        "    'val_loss': val_loss,\n",
        "    'best_val_loss': best_val_loss\n",
        "}, '/content/blip_trained_model.pth')\n",
        "print(\"✓ Model saved to /content/blip_trained_model.pth\")\n",
        "\n",
        "# Test the model\n",
        "def test_model_colab(model, processor, test_loader, device, num_samples=3):\n",
        "    \"\"\"Test model with Colab optimizations\"\"\"\n",
        "    model.eval()\n",
        "\n",
        "    with torch.no_grad():\n",
        "        for i, batch in enumerate(test_loader):\n",
        "            if i >= num_samples:\n",
        "                break\n",
        "\n",
        "            pixel_values = batch['pixel_values'].to(device)\n",
        "\n",
        "            # Generate captions with optimized settings\n",
        "            generated_ids = model.generate(\n",
        "                pixel_values=pixel_values,\n",
        "                max_length=50,\n",
        "                num_beams=4,\n",
        "                early_stopping=True,\n",
        "                do_sample=False  # Deterministic for faster generation\n",
        "            )\n",
        "\n",
        "            # Decode the generated captions\n",
        "            generated_captions = processor.batch_decode(generated_ids, skip_special_tokens=True)\n",
        "\n",
        "            print(f\"\\nSample {i+1}:\")\n",
        "            print(f\"Generated: {generated_captions[0]}\")\n",
        "            print(\"-\" * 50)\n",
        "\n",
        "# Test the model\n",
        "print(\"Testing the trained model...\")\n",
        "test_model_colab(model, processor, test_loader, device, num_samples=3)\n"
      ]
    },
    {
      "cell_type": "code",
      "execution_count": 12,
      "metadata": {
        "id": "FEcKW_PxXRgH"
      },
      "outputs": [],
      "source": [
        "# Add the missing predict_from_image_colab function\n",
        "def predict_from_image_colab(image_input, model, processor, device):\n",
        "    \"\"\"Optimized inference for Colab\"\"\"\n",
        "    model.eval()\n",
        "\n",
        "    # Handle different image input types\n",
        "    if isinstance(image_input, str):  # File path\n",
        "        image = Image.open(image_input).convert(\"RGB\")\n",
        "    elif isinstance(image_input, bytes):  # Bytes\n",
        "        image = Image.open(io.BytesIO(image_input)).convert(\"RGB\")\n",
        "    elif isinstance(image_input, Image.Image):  # PIL Image\n",
        "        image = image_input.convert(\"RGB\")\n",
        "    else:\n",
        "        raise ValueError(\"Image must be a file path, bytes, or PIL Image\")\n",
        "\n",
        "    # Resize if too large (Colab memory optimization)\n",
        "    if image.size[0] > 512 or image.size[1] > 512:\n",
        "        image = image.resize((512, 512), Image.Resampling.LANCZOS)\n",
        "\n",
        "    # Process and generate\n",
        "    inputs = processor(images=image, return_tensors=\"pt\")\n",
        "    pixel_values = inputs['pixel_values'].to(device)\n",
        "\n",
        "    with torch.no_grad():\n",
        "        generated_ids = model.generate(\n",
        "            pixel_values=pixel_values,\n",
        "            max_length=50,\n",
        "            num_beams=4,\n",
        "            early_stopping=True\n",
        "        )\n",
        "\n",
        "    caption = processor.decode(generated_ids[0], skip_special_tokens=True)\n",
        "    return caption\n"
      ]
    },
    {
      "cell_type": "code",
      "execution_count": 13,
      "metadata": {
        "id": "G94kCsChXRgH"
      },
      "outputs": [],
      "source": [
        "# Simple function to check model performance\n",
        "def check_model_performance(model, processor, device, test_list, num_samples=5):\n",
        "    \"\"\"\n",
        "    Simple function to compare generated vs ground truth captions\n",
        "    \"\"\"\n",
        "    print(f\"Model Performance Check ({num_samples} samples)\")\n",
        "    print(\"=\" * 50)\n",
        "\n",
        "    for i in range(min(num_samples, len(test_list))):\n",
        "        sample = test_list[i]\n",
        "        ground_truth = sample['caption']\n",
        "\n",
        "        # Generate caption\n",
        "        generated = predict_from_image_colab(sample['image_frontal'], model, processor, device)\n",
        "\n",
        "        # Display results\n",
        "        print(f\"\\nSample {i+1}:\")\n",
        "        print(f\"Generated: {generated}\")\n",
        "        print(f\"Ground Truth: {ground_truth}\")\n",
        "        print(\"-\" * 40)\n",
        "\n",
        "    print(f\"\\nCompleted check on {min(num_samples, len(test_list))} samples!\")"
      ]
    },
    {
      "cell_type": "code",
      "execution_count": 14,
      "metadata": {
        "colab": {
          "base_uri": "https://localhost:8080/"
        },
        "id": "A7_BK4VFXRgI",
        "outputId": "20d51365-9964-48d5-db43-65ee7f0d7255"
      },
      "outputs": [
        {
          "output_type": "stream",
          "name": "stdout",
          "text": [
            "Model Performance Check (5 samples)\n",
            "==================================================\n",
            "\n",
            "Sample 1:\n",
            "Generated: medical findings : normal. the heart is normal in size. the mediastinum is unremarkable. the lungs are clear.\n",
            "Ground Truth: Medical findings: Thoracic Vertebrae. The heart size and cardiopulmonary silhouette is normal. There is no focal airspace opacity, pleural effusion, or pneumothorax. The obstruction are intact with mild degenerative change in the thoracic spine.\n",
            "----------------------------------------\n",
            "\n",
            "Sample 2:\n",
            "Generated: medical findings : normal. the lungs are clear bilaterally. specifically, no evidence of focal consolidation, pneumothorax, or pleural effusion.. cardio mediastinal silhouette is unremarkable. visual\n",
            "Ground Truth: Medical findings: Spine. Normal cardiomediastinal silhouette. There is no focal consolidation. There are no XXXX of a large pleural effusion. There is no pneumothorax. There is no acute bony abnormality seen. Mild degenerative changes of the spine.\n",
            "----------------------------------------\n",
            "\n",
            "Sample 3:\n",
            "Generated: medical findings : normal. the heart is normal in size. the mediastinum is unremarkable. the lungs are clear.\n",
            "Ground Truth: Medical findings: Opacity;Pulmonary Atelectasis;Lung;Calcinosis. The heart, pulmonary XXXX and mediastinum are within normal limits. There is no pleural effusion or pneumothorax. There is bilateral basilar XXXX opacity compatible with atelectasis. There are somewhat low lung volumes. There is a calcified right hilar lymph node.\n",
            "----------------------------------------\n",
            "\n",
            "Sample 4:\n",
            "Generated: medical findings : normal. the heart is normal in size. the mediastinum is unremarkable. the lungs are clear.\n",
            "Ground Truth: Medical findings: Lung;Implanted Medical Device;Calcinosis;Opacity.\n",
            "----------------------------------------\n",
            "\n",
            "Sample 5:\n",
            "Generated: medical findings : normal. the heart is normal in size. the mediastinum is unremarkable. the lungs are clear.\n",
            "Ground Truth: Medical findings: normal. Cardiomediastinal silhouette and central pulmonary vasculature are within normal limits. There is no focal air space opacity. No pleural effusion or pneumothorax is seen. No acute bony abnormality is demonstrated.\n",
            "----------------------------------------\n",
            "\n",
            "Completed check on 5 samples!\n"
          ]
        }
      ],
      "source": [
        "check_model_performance(model, processor, device, test_list, num_samples=5)\n"
      ]
    },
    {
      "cell_type": "code",
      "source": [
        "# Medical Classification and Accuracy Evaluation Module\n",
        "import re\n",
        "import numpy as np\n",
        "from sklearn.metrics import accuracy_score, precision_recall_fscore_support, classification_report\n",
        "from collections import defaultdict\n",
        "import matplotlib.pyplot as plt\n",
        "import seaborn as sns\n",
        "\n",
        "class MedicalClassificationEvaluator:\n",
        "    \"\"\"\n",
        "    Comprehensive evaluation system for medical image captioning accuracy\n",
        "    \"\"\"\n",
        "\n",
        "    def __init__(self):\n",
        "        # Define medical condition categories\n",
        "        self.medical_conditions = {\n",
        "            'normal': ['normal', 'no acute', 'no significant', 'unremarkable', 'clear'],\n",
        "            'pneumonia': ['pneumonia', 'consolidation', 'infiltrate', 'opacity'],\n",
        "            'cardiomegaly': ['cardiomegaly', 'enlarged heart', 'cardiac enlargement'],\n",
        "            'atelectasis': ['atelectasis', 'collapse', 'compression'],\n",
        "            'effusion': ['effusion', 'pleural effusion', 'fluid'],\n",
        "            'pneumothorax': ['pneumothorax', 'air leak', 'collapsed lung'],\n",
        "            'edema': ['edema', 'swelling', 'fluid retention'],\n",
        "            'mass': ['mass', 'nodule', 'lesion', 'tumor'],\n",
        "            'fracture': ['fracture', 'break', 'crack', 'displacement'],\n",
        "            'foreign_body': ['foreign body', 'foreign object', 'implant']\n",
        "        }\n",
        "\n",
        "        # Severity indicators\n",
        "        self.severity_indicators = {\n",
        "            'mild': ['mild', 'slight', 'minimal', 'small'],\n",
        "            'moderate': ['moderate', 'medium', 'intermediate'],\n",
        "            'severe': ['severe', 'significant', 'extensive', 'large', 'marked']\n",
        "        }\n",
        "\n",
        "        # Location indicators\n",
        "        self.location_indicators = {\n",
        "            'left': ['left', 'lateral'],\n",
        "            'right': ['right', 'lateral'],\n",
        "            'bilateral': ['bilateral', 'both', 'bilateral'],\n",
        "            'upper': ['upper', 'superior', 'apical'],\n",
        "            'lower': ['lower', 'inferior', 'basal'],\n",
        "            'central': ['central', 'middle']\n",
        "        }\n",
        "\n",
        "    def extract_medical_conditions(self, text):\n",
        "        \"\"\"Extract medical conditions from text\"\"\"\n",
        "        text_lower = text.lower()\n",
        "        found_conditions = []\n",
        "\n",
        "        for condition, keywords in self.medical_conditions.items():\n",
        "            for keyword in keywords:\n",
        "                if keyword in text_lower:\n",
        "                    found_conditions.append(condition)\n",
        "                    break\n",
        "\n",
        "        return list(set(found_conditions))  # Remove duplicates\n",
        "\n",
        "    def extract_severity(self, text):\n",
        "        \"\"\"Extract severity indicators from text\"\"\"\n",
        "        text_lower = text.lower()\n",
        "        found_severity = []\n",
        "\n",
        "        for severity, keywords in self.severity_indicators.items():\n",
        "            for keyword in keywords:\n",
        "                if keyword in text_lower:\n",
        "                    found_severity.append(severity)\n",
        "                    break\n",
        "\n",
        "        return list(set(found_severity))\n",
        "\n",
        "    def extract_locations(self, text):\n",
        "        \"\"\"Extract location indicators from text\"\"\"\n",
        "        text_lower = text.lower()\n",
        "        found_locations = []\n",
        "\n",
        "        for location, keywords in self.location_indicators.items():\n",
        "            for keyword in keywords:\n",
        "                if keyword in text_lower:\n",
        "                    found_locations.append(location)\n",
        "                    break\n",
        "\n",
        "        return list(set(found_locations))\n",
        "\n",
        "    def calculate_semantic_similarity(self, generated, ground_truth):\n",
        "        \"\"\"Calculate semantic similarity between generated and ground truth text\"\"\"\n",
        "        # Extract conditions from both texts\n",
        "        gen_conditions = set(self.extract_medical_conditions(generated))\n",
        "        gt_conditions = set(self.extract_medical_conditions(ground_truth))\n",
        "\n",
        "        # Calculate Jaccard similarity for conditions\n",
        "        if len(gen_conditions) == 0 and len(gt_conditions) == 0:\n",
        "            condition_similarity = 1.0\n",
        "        elif len(gen_conditions) == 0 or len(gt_conditions) == 0:\n",
        "            condition_similarity = 0.0\n",
        "        else:\n",
        "            intersection = len(gen_conditions.intersection(gt_conditions))\n",
        "            union = len(gen_conditions.union(gt_conditions))\n",
        "            condition_similarity = intersection / union\n",
        "\n",
        "        # Extract severity from both texts\n",
        "        gen_severity = set(self.extract_severity(generated))\n",
        "        gt_severity = set(self.extract_severity(ground_truth))\n",
        "\n",
        "        severity_similarity = 0.0\n",
        "        if len(gen_severity) > 0 and len(gt_severity) > 0:\n",
        "            if gen_severity == gt_severity:\n",
        "                severity_similarity = 1.0\n",
        "            elif len(gen_severity.intersection(gt_severity)) > 0:\n",
        "                severity_similarity = 0.5\n",
        "\n",
        "        # Extract locations from both texts\n",
        "        gen_locations = set(self.extract_locations(generated))\n",
        "        gt_locations = set(self.extract_locations(ground_truth))\n",
        "\n",
        "        location_similarity = 0.0\n",
        "        if len(gen_locations) > 0 and len(gt_locations) > 0:\n",
        "            intersection = len(gen_locations.intersection(gt_locations))\n",
        "            union = len(gen_locations.union(gt_locations))\n",
        "            location_similarity = intersection / union\n",
        "\n",
        "        # Weighted average of similarities\n",
        "        overall_similarity = (\n",
        "            0.6 * condition_similarity +\n",
        "            0.2 * severity_similarity +\n",
        "            0.2 * location_similarity\n",
        "        )\n",
        "\n",
        "        return {\n",
        "            'overall_similarity': overall_similarity,\n",
        "            'condition_similarity': condition_similarity,\n",
        "            'severity_similarity': severity_similarity,\n",
        "            'location_similarity': location_similarity,\n",
        "            'generated_conditions': gen_conditions,\n",
        "            'ground_truth_conditions': gt_conditions\n",
        "        }\n",
        "\n",
        "    def evaluate_accuracy(self, model, processor, device, test_list, num_samples=None):\n",
        "        \"\"\"Comprehensive accuracy evaluation\"\"\"\n",
        "        if num_samples is None:\n",
        "            num_samples = len(test_list)\n",
        "        else:\n",
        "            num_samples = min(num_samples, len(test_list))\n",
        "\n",
        "        results = []\n",
        "        all_similarities = []\n",
        "\n",
        "        print(f\"Evaluating accuracy on {num_samples} samples...\")\n",
        "        print(\"=\" * 60)\n",
        "\n",
        "        for i in tqdm(range(num_samples), desc=\"Evaluating\"):\n",
        "            sample = test_list[i]\n",
        "            ground_truth = sample['caption']\n",
        "\n",
        "            # Generate caption\n",
        "            generated = predict_from_image_colab(sample['image_frontal'], model, processor, device)\n",
        "\n",
        "            # Calculate similarity metrics\n",
        "            similarity_metrics = self.calculate_semantic_similarity(generated, ground_truth)\n",
        "\n",
        "            # Store results\n",
        "            result = {\n",
        "                'sample_id': i,\n",
        "                'generated': generated,\n",
        "                'ground_truth': ground_truth,\n",
        "                'similarity_metrics': similarity_metrics\n",
        "            }\n",
        "            results.append(result)\n",
        "            all_similarities.append(similarity_metrics['overall_similarity'])\n",
        "\n",
        "        # Calculate overall metrics\n",
        "        avg_similarity = np.mean(all_similarities)\n",
        "        high_accuracy_count = sum(1 for sim in all_similarities if sim >= 0.7)\n",
        "        medium_accuracy_count = sum(1 for sim in all_similarities if 0.4 <= sim < 0.7)\n",
        "        low_accuracy_count = sum(1 for sim in all_similarities if sim < 0.4)\n",
        "\n",
        "        # Print results\n",
        "        print(f\"\\n{'='*60}\")\n",
        "        print(\"ACCURACY EVALUATION RESULTS\")\n",
        "        print(f\"{'='*60}\")\n",
        "        print(f\"Average Semantic Similarity: {avg_similarity:.3f}\")\n",
        "        print(f\"High Accuracy (≥0.7): {high_accuracy_count}/{num_samples} ({high_accuracy_count/num_samples*100:.1f}%)\")\n",
        "        print(f\"Medium Accuracy (0.4-0.7): {medium_accuracy_count}/{num_samples} ({medium_accuracy_count/num_samples*100:.1f}%)\")\n",
        "        print(f\"Low Accuracy (<0.4): {low_accuracy_count}/{num_samples} ({low_accuracy_count/num_samples*100:.1f}%)\")\n",
        "\n",
        "        return results, {\n",
        "            'avg_similarity': avg_similarity,\n",
        "            'high_accuracy': high_accuracy_count,\n",
        "            'medium_accuracy': medium_accuracy_count,\n",
        "            'low_accuracy': low_accuracy_count,\n",
        "            'total_samples': num_samples\n",
        "        }\n",
        "\n",
        "    def detailed_analysis(self, results, top_n=5):\n",
        "        \"\"\"Provide detailed analysis of results\"\"\"\n",
        "        print(f\"\\n{'='*60}\")\n",
        "        print(\"DETAILED ANALYSIS\")\n",
        "        print(f\"{'='*60}\")\n",
        "\n",
        "        # Sort by similarity score\n",
        "        sorted_results = sorted(results, key=lambda x: x['similarity_metrics']['overall_similarity'], reverse=True)\n",
        "\n",
        "        print(f\"\\nTOP {top_n} BEST PREDICTIONS:\")\n",
        "        print(\"-\" * 40)\n",
        "        for i, result in enumerate(sorted_results[:top_n]):\n",
        "            metrics = result['similarity_metrics']\n",
        "            print(f\"\\n{i+1}. Similarity: {metrics['overall_similarity']:.3f}\")\n",
        "            print(f\"   Generated: {result['generated']}\")\n",
        "            print(f\"   Ground Truth: {result['ground_truth']}\")\n",
        "            print(f\"   Conditions Match: {metrics['condition_similarity']:.3f}\")\n",
        "\n",
        "        print(f\"\\nTOP {top_n} WORST PREDICTIONS:\")\n",
        "        print(\"-\" * 40)\n",
        "        for i, result in enumerate(sorted_results[-top_n:]):\n",
        "            metrics = result['similarity_metrics']\n",
        "            print(f\"\\n{i+1}. Similarity: {metrics['overall_similarity']:.3f}\")\n",
        "            print(f\"   Generated: {result['generated']}\")\n",
        "            print(f\"   Ground Truth: {result['ground_truth']}\")\n",
        "            print(f\"   Conditions Match: {metrics['condition_similarity']:.3f}\")\n",
        "\n",
        "    def plot_accuracy_distribution(self, results):\n",
        "        \"\"\"Plot accuracy distribution\"\"\"\n",
        "        similarities = [r['similarity_metrics']['overall_similarity'] for r in results]\n",
        "\n",
        "        plt.figure(figsize=(12, 8))\n",
        "\n",
        "        # Histogram\n",
        "        plt.subplot(2, 2, 1)\n",
        "        plt.hist(similarities, bins=20, alpha=0.7, color='skyblue', edgecolor='black')\n",
        "        plt.title('Distribution of Semantic Similarity Scores')\n",
        "        plt.xlabel('Similarity Score')\n",
        "        plt.ylabel('Frequency')\n",
        "        plt.grid(True, alpha=0.3)\n",
        "\n",
        "        # Box plot\n",
        "        plt.subplot(2, 2, 2)\n",
        "        plt.boxplot(similarities, vert=True)\n",
        "        plt.title('Similarity Score Distribution')\n",
        "        plt.ylabel('Similarity Score')\n",
        "        plt.grid(True, alpha=0.3)\n",
        "\n",
        "        # Accuracy categories\n",
        "        plt.subplot(2, 2, 3)\n",
        "        high_acc = sum(1 for s in similarities if s >= 0.7)\n",
        "        med_acc = sum(1 for s in similarities if 0.4 <= s < 0.7)\n",
        "        low_acc = sum(1 for s in similarities if s < 0.4)\n",
        "\n",
        "        categories = ['High (≥0.7)', 'Medium (0.4-0.7)', 'Low (<0.4)']\n",
        "        counts = [high_acc, med_acc, low_acc]\n",
        "        colors = ['green', 'orange', 'red']\n",
        "\n",
        "        plt.bar(categories, counts, color=colors, alpha=0.7)\n",
        "        plt.title('Accuracy Categories')\n",
        "        plt.ylabel('Number of Samples')\n",
        "        plt.xticks(rotation=45)\n",
        "\n",
        "        # Cumulative distribution\n",
        "        plt.subplot(2, 2, 4)\n",
        "        sorted_sims = sorted(similarities)\n",
        "        y_values = np.arange(1, len(sorted_sims) + 1) / len(sorted_sims)\n",
        "        plt.plot(sorted_sims, y_values, linewidth=2, color='purple')\n",
        "        plt.title('Cumulative Distribution')\n",
        "        plt.xlabel('Similarity Score')\n",
        "        plt.ylabel('Cumulative Probability')\n",
        "        plt.grid(True, alpha=0.3)\n",
        "\n",
        "        plt.tight_layout()\n",
        "        plt.show()\n",
        "\n",
        "        # Print statistics\n",
        "        print(f\"\\nSIMILARITY STATISTICS:\")\n",
        "        print(f\"Mean: {np.mean(similarities):.3f}\")\n",
        "        print(f\"Median: {np.median(similarities):.3f}\")\n",
        "        print(f\"Std Dev: {np.std(similarities):.3f}\")\n",
        "        print(f\"Min: {np.min(similarities):.3f}\")\n",
        "        print(f\"Max: {np.max(similarities):.3f}\")\n",
        "\n",
        "# Initialize the evaluator\n",
        "evaluator = MedicalClassificationEvaluator()\n",
        "\n",
        "# Run comprehensive evaluation\n",
        "print(\"Starting comprehensive accuracy evaluation...\")\n",
        "results, summary = evaluator.evaluate_accuracy(model, processor, device, test_list, num_samples=20)\n",
        "\n",
        "# Show detailed analysis\n",
        "evaluator.detailed_analysis(results, top_n=3)\n",
        "\n",
        "# Plot accuracy distribution\n",
        "evaluator.plot_accuracy_distribution(results)"
      ],
      "metadata": {
        "colab": {
          "base_uri": "https://localhost:8080/",
          "height": 1000
        },
        "id": "Yu4A6Kucj2pq",
        "outputId": "b9898a86-7f98-430e-b480-05069c5f600b"
      },
      "execution_count": 15,
      "outputs": [
        {
          "output_type": "stream",
          "name": "stdout",
          "text": [
            "Starting comprehensive accuracy evaluation...\n",
            "Evaluating accuracy on 20 samples...\n",
            "============================================================\n"
          ]
        },
        {
          "output_type": "stream",
          "name": "stderr",
          "text": [
            "Evaluating: 100%|██████████| 20/20 [00:20<00:00,  1.00s/it]\n"
          ]
        },
        {
          "output_type": "stream",
          "name": "stdout",
          "text": [
            "\n",
            "============================================================\n",
            "ACCURACY EVALUATION RESULTS\n",
            "============================================================\n",
            "Average Semantic Similarity: 0.301\n",
            "High Accuracy (≥0.7): 0/20 (0.0%)\n",
            "Medium Accuracy (0.4-0.7): 7/20 (35.0%)\n",
            "Low Accuracy (<0.4): 13/20 (65.0%)\n",
            "\n",
            "============================================================\n",
            "DETAILED ANALYSIS\n",
            "============================================================\n",
            "\n",
            "TOP 3 BEST PREDICTIONS:\n",
            "----------------------------------------\n",
            "\n",
            "1. Similarity: 0.650\n",
            "   Generated: medical findings : normal. the cardiomediastinal silhouette is normal in size and contour. no focal consolidation, pneumothorax or large pleural effusion. negative for acute bone abnormality.\n",
            "   Ground Truth: Medical findings: normal. The lungs are clear without evidence of focal airspace disease. There is no evidence of pneumothorax or large pleural effusion. The cardiac and mediastinal contours are within normal limits. The XXXX are unremarkable.\n",
            "   Conditions Match: 0.750\n",
            "\n",
            "2. Similarity: 0.600\n",
            "   Generated: medical findings : normal. the lungs are clear bilaterally. specifically, no evidence of focal consolidation, pneumothorax, or pleural effusion.. cardio mediastinal silhouette is unremarkable. visual\n",
            "   Ground Truth: Medical findings: Spine. Normal cardiomediastinal silhouette. There is no focal consolidation. There are no XXXX of a large pleural effusion. There is no pneumothorax. There is no acute bony abnormality seen. Mild degenerative changes of the spine.\n",
            "   Conditions Match: 1.000\n",
            "\n",
            "3. Similarity: 0.600\n",
            "   Generated: medical findings : normal. the lungs are clear bilaterally. specifically, no evidence of focal consolidation, pneumothorax, or pleural effusion.. cardio mediastinal silhouette is unremarkable. visual\n",
            "   Ground Truth: Medical findings: normal. No focal consolidation. No visualized pneumothorax. No large pleural effusions. Heart size is normal. The cardiomediastinal silhouette is grossly unremarkable.\n",
            "   Conditions Match: 1.000\n",
            "\n",
            "TOP 3 WORST PREDICTIONS:\n",
            "----------------------------------------\n",
            "\n",
            "1. Similarity: 0.000\n",
            "   Generated: medical findings : normal. the heart is normal in size. the mediastinum is unremarkable. the lungs are clear.\n",
            "   Ground Truth: Medical findings: Lung;Implanted Medical Device;Calcinosis;Opacity.\n",
            "   Conditions Match: 0.000\n",
            "\n",
            "2. Similarity: 0.000\n",
            "   Generated: medical findings : cardiomegaly ; aorta ; opacity ; pulmonary atelectasis ; cicatrix ; pulmonary atelectasis ; opacity ; cicatrix ; opacity.\n",
            "   Ground Truth: Medical findings: Lucency;Pulmonary Emphysema;Density;Deformity. The trachea is midline. The cardiomediastinal silhouette is normal. The superior thoracic spine is again noted, unchanged from prior. Lucent pulmonary parenchyma is consistent appearance with emphysema and appears unchanged from prior examinations. No evidence of pneumothorax. No focal airspace disease or pleural effusion. Vague density in the medial right lung apex most XXXX representing overlying shadows of bony structures, which is stable.\n",
            "   Conditions Match: 0.000\n",
            "\n",
            "3. Similarity: 0.000\n",
            "   Generated: medical findings : cardiomegaly ; opacity ; pulmonary atelectasis ; cicatrix ; pleural effusion ; the heart size\n",
            "   Ground Truth: Medical findings: Catheters, Indwelling. The heart is normal in size. The mediastinum is unremarkable. The right chest XXXX tip is visualized in the mid SVC. There is no pneumothorax. The lungs are clear.\n",
            "   Conditions Match: 0.000\n"
          ]
        },
        {
          "output_type": "display_data",
          "data": {
            "text/plain": [
              "<Figure size 1200x800 with 4 Axes>"
            ],
            "image/png": "[encoded data removed]"
          },
          "metadata": {}
        },
        {
          "output_type": "stream",
          "name": "stdout",
          "text": [
            "\n",
            "SIMILARITY STATISTICS:\n",
            "Mean: 0.301\n",
            "Median: 0.200\n",
            "Std Dev: 0.228\n",
            "Min: 0.000\n",
            "Max: 0.650\n"
          ]
        }
      ]
    }
  ],
  "metadata": {
    "language_info": {
      "name": "python"
    },
    "colab": {
      "provenance": [],
      "gpuType": "T4"
    },
    "accelerator": "GPU",
    "kernelspec": {
      "name": "python3",
      "display_name": "Python 3"
    }
  },
  "nbformat": 4,
  "nbformat_minor": 0
}